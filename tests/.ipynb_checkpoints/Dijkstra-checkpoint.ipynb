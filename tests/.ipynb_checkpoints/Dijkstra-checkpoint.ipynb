{
 "cells": [
  {
   "cell_type": "code",
   "execution_count": 1,
   "id": "39517c00",
   "metadata": {},
   "outputs": [],
   "source": [
    "from Dijkstra_util import *\n",
    "from tape import Tape"
   ]
  },
  {
   "cell_type": "code",
   "execution_count": 2,
   "id": "a6966385",
   "metadata": {},
   "outputs": [],
   "source": [
    "# Input tape description: 'source_node # edge 1 : weight # edge 2 : weight # edge 3 : weight'\n",
    "start_tape = '0 0 0 0 0 # 0 0 0 0 0 - 0 0 0 0 1 : 0 0 0 0 1 # 0 0 0 0 1 - 0 0 0 1 0 : 0 0 0 0 1 # 0 0 0 0 0 - 0 0 0 1 0 : 0 0 1 0 1 '\n",
    "symbols = '01#-ABCDdXQMUY$ :'\n",
    "tape = Tape(start_tape, symbols)\n",
    "\n",
    "tape_prev_nodes = Tape('', '01$-A ')"
   ]
  },
  {
   "cell_type": "code",
   "execution_count": 3,
   "id": "611f5211",
   "metadata": {
    "scrolled": true
   },
   "outputs": [],
   "source": [
    "tm = initialize_tape(tape, verbose=False)\n",
    "\n",
    "tm = initialize_distance_data(tape, verbose=False)\n",
    "\n",
    "tm = initialize_distance_data_second_tape(tape, tape_prev_nodes, verbose=False)\n",
    "\n",
    "tm = initialize_nodes_in_the_queue(tape, verbose=False)\n",
    "\n",
    "tm = initialize_minimum_distance(tape, verbose=False)\n",
    "\n",
    "tm = initialize_minimum_distance_node(tape, verbose=False)\n",
    "\n",
    "while True:\n",
    "\n",
    "    tm = is_queue_empty(tape, verbose=False)\n",
    "        \n",
    "    if tape.read() == 'X':\n",
    "        tm = print_symbol(tape, ' ', verbose=False)\n",
    "        tm.process(verbose=False)\n",
    "        \n",
    "        tm = find_symbol(tape, '@', Direction.Right, verbose=False)\n",
    "        tm.process(verbose=False)\n",
    "    \n",
    "        break\n",
    "    \n",
    "    tm = find_minimum(tape, verbose=False)\n",
    "\n",
    "    tm = remove_node_from_queue(tape, verbose=False)\n",
    "\n",
    "    tm = update_distances(tape, tape_prev_nodes, verbose=False)\n",
    "\n",
    "    tm = reset_minimum_distance(tape, verbose=False)\n",
    "\n",
    "    tm = reset_minimum_distance_node(tape, verbose=False)"
   ]
  },
  {
   "cell_type": "code",
   "execution_count": 4,
   "id": "8bd489b0",
   "metadata": {},
   "outputs": [
    {
     "data": {
      "text/plain": [
       "'@0 0 0 0 0 # 0 0 0 0 0 - 0 0 0 0 1 : 0 0 0 0 1 # 0 0 0 0 1 - 0 0 0 1 0 : 0 0 0 0 1 # 0 0 0 0 0 - 0 0 0 1 0 : 0 0 1 0 1 d 0 0 0 0 0 - 0 0 0 0 0 $ 0 0 0 0 1 - 0 0 0 0 1 $ 0 0 0 1 0 - 0 0 0 1 0 Q 0Y0 0 0 0 - 0Y0 0 0 1 - 0Y0 0 1 0 M 1 1 1 1 1 U 1 1 1 1 1 E'"
      ]
     },
     "execution_count": 4,
     "metadata": {},
     "output_type": "execute_result"
    }
   ],
   "source": [
    "# Out tape description. After symbol \"d\" I store the node and its distnace to the source node separated by a -.\n",
    "# The rest of the data are used by the algorithm.\n",
    "tape.get_tape()"
   ]
  },
  {
   "cell_type": "code",
   "execution_count": 5,
   "id": "f345e278",
   "metadata": {},
   "outputs": [
    {
     "data": {
      "text/plain": [
       "'@0 0 0 0 0 - 0 0 0 0 0 $ 0 0 0 0 1 - 0 0 0 0 0 $ 0 0 0 1 0 - 0 0 0 0 1 E'"
      ]
     },
     "execution_count": 5,
     "metadata": {},
     "output_type": "execute_result"
    }
   ],
   "source": [
    "# This tape stores the node and the previous node separated by a -.\n",
    "tape_prev_nodes.get_tape()"
   ]
  },
  {
   "cell_type": "code",
   "execution_count": null,
   "id": "8cde738a",
   "metadata": {},
   "outputs": [],
   "source": []
  },
  {
   "cell_type": "code",
   "execution_count": null,
   "id": "3369fb87",
   "metadata": {},
   "outputs": [],
   "source": []
  },
  {
   "cell_type": "code",
   "execution_count": null,
   "id": "d71c2d07",
   "metadata": {},
   "outputs": [],
   "source": []
  },
  {
   "cell_type": "code",
   "execution_count": null,
   "id": "b6ba1d51",
   "metadata": {},
   "outputs": [],
   "source": []
  },
  {
   "cell_type": "code",
   "execution_count": null,
   "id": "19cd8a6f",
   "metadata": {},
   "outputs": [],
   "source": []
  },
  {
   "cell_type": "code",
   "execution_count": null,
   "id": "23fb63a3",
   "metadata": {},
   "outputs": [],
   "source": []
  },
  {
   "cell_type": "code",
   "execution_count": null,
   "id": "f618426a",
   "metadata": {},
   "outputs": [],
   "source": []
  },
  {
   "cell_type": "code",
   "execution_count": null,
   "id": "0aa036ba",
   "metadata": {},
   "outputs": [],
   "source": []
  },
  {
   "cell_type": "code",
   "execution_count": null,
   "id": "102c662c",
   "metadata": {},
   "outputs": [],
   "source": []
  },
  {
   "cell_type": "code",
   "execution_count": null,
   "id": "ad21cd8e",
   "metadata": {},
   "outputs": [],
   "source": []
  }
 ],
 "metadata": {
  "kernelspec": {
   "display_name": "Python 3 (ipykernel)",
   "language": "python",
   "name": "python3"
  },
  "language_info": {
   "codemirror_mode": {
    "name": "ipython",
    "version": 3
   },
   "file_extension": ".py",
   "mimetype": "text/x-python",
   "name": "python",
   "nbconvert_exporter": "python",
   "pygments_lexer": "ipython3",
   "version": "3.9.7"
  }
 },
 "nbformat": 4,
 "nbformat_minor": 5
}
